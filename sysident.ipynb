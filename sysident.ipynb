{
 "cells": [
  {
   "cell_type": "markdown",
   "metadata": {},
   "source": [
    "# System identification on joints"
   ]
  },
  {
   "cell_type": "markdown",
   "metadata": {},
   "source": [
    "## Introduction"
   ]
  },
  {
   "cell_type": "markdown",
   "metadata": {},
   "source": [
    "This notebook contains calculations to do what is called \"system identification\" on joints. It means finding transfer functions which describe the responses of these systems.\n",
    "\n",
    "Input data is made with another notebook named \"Motor control characterization\". To know more about the origin of this data, please read the other notebook."
   ]
  },
  {
   "cell_type": "markdown",
   "metadata": {},
   "source": [
    "## Import of Python packages"
   ]
  },
  {
   "cell_type": "markdown",
   "metadata": {},
   "source": [
    "### Built-in packages"
   ]
  },
  {
   "cell_type": "code",
   "execution_count": null,
   "metadata": {},
   "outputs": [],
   "source": [
    "import os\n",
    "import glob"
   ]
  },
  {
   "cell_type": "markdown",
   "metadata": {},
   "source": [
    "### Installed packages"
   ]
  },
  {
   "cell_type": "code",
   "execution_count": null,
   "metadata": {},
   "outputs": [],
   "source": [
    "import matplotlib.pyplot as plt\n",
    "%matplotlib inline\n",
    "\n",
    "import seaborn as sns\n",
    "from scipy import signal as scipysig\n",
    "import numpy as np\n",
    "\n",
    "from tqdm import tqdm_notebook"
   ]
  },
  {
   "cell_type": "markdown",
   "metadata": {},
   "source": [
    "### Local packages"
   ]
  },
  {
   "cell_type": "code",
   "execution_count": null,
   "metadata": {},
   "outputs": [],
   "source": [
    "import utils.data as datautils\n",
    "import utils.signal as sigutils"
   ]
  },
  {
   "cell_type": "markdown",
   "metadata": {},
   "source": [
    "## Import of input data"
   ]
  },
  {
   "cell_type": "markdown",
   "metadata": {},
   "source": [
    "All data of all the joints cannot be loaded at once as it would require too much memory. Therefore, below is declared a function to quickly load data from a specific joint. Data must be located in the following file architecture:\n",
    "\n",
    "```\n",
    ".\n",
    "├── build\n",
    "   ├── <robot_name>\n",
    "      ├── <joint_name>\n",
    "      │  ├── <filename>.pickle\n",
    "      └── <joint_name>\n",
    "      │  ├── <filename>.pickle\n",
    "      ⁝\n",
    "```\n",
    "\n",
    "Where `<robot_name>` and `<joint_name>` are arbitrary directory names.\n",
    "\n",
    "And where `filename` matches the following format: `synthesis_<move_type>_<joint_name>_<current_min>-<current_max>_<temp_min>-<temp_max>_<load_dir>`, where:\n",
    "* `move_type` is whether \"step\" or \"sine\",\n",
    "* `joint_name` is a joint name (\"HeadYaw\", \"RElbowRoll\", …),\n",
    "* `current_min` is the minimum current of the concerned operating point,\n",
    "* `current_max` is the maximum current of the concerned operating point,\n",
    "* `temp_min` is the minimum temperature of the concerned operating point,\n",
    "* `temp_max` is the maximum temperature of the concerned operating point,\n",
    "* `load_dir` is the load direction of the concerned operating point (whether 1, -1, or 0).\n"
   ]
  },
  {
   "cell_type": "code",
   "execution_count": 1,
   "metadata": {},
   "outputs": [],
   "source": [
    "def get_joint_step_data(joint_name, base_dir='./build/myRobot'):\n",
    "    \"\"\"Return the synthesis object for every operating group of the joint.\"\"\"\n",
    "    joint_dir = os.path.join(base_dir, joint_name)\n",
    "    all_pickle_files = glob.glob('{}/*step*.pickle'.format(joint_dir))\n",
    "    data = [datautils.load_op_data(f) for f in all_pickle_files]\n",
    "    return data"
   ]
  },
  {
   "cell_type": "markdown",
   "metadata": {},
   "source": [
    "## System identification by performance parameters identification"
   ]
  },
  {
   "cell_type": "markdown",
   "metadata": {},
   "source": [
    "### Theory"
   ]
  },
  {
   "cell_type": "markdown",
   "metadata": {},
   "source": [
    "Let’s approximate our system as a second order linear system around an operating point. Its transfer function can be written as:\n",
    "\n",
    "\\begin{equation}\n",
    "G(s) = \\frac{K\\omega_n^2}{s^2 + 2\\zeta\\omega_ns + \\omega_n^2}\n",
    "\\end{equation}\n",
    "\n",
    "Where:\n",
    "* $K$ is the gain\n",
    "* $\\omega_n$ is the undamped natural angular frequency\n",
    "* $\\zeta$ is the damping ratio\n",
    "\n",
    "For an overdamped system ($\\zeta > 1$), **TODO**\n",
    "\n",
    "For an underdamped system ($\\zeta < 1$), the **step response** can be characterized by the following parameters:\n",
    "\n",
    "<table width='75%'>\n",
    "<col width=\"20%\">\n",
    "<thead>\n",
    "<tr>\n",
    "<th>Parameter</th>\n",
    "<th>Definition</th>\n",
    "<th>Link with transfer function</th>\n",
    "</tr>\n",
    "</thead>\n",
    "    \n",
    "<tbody>\n",
    "<tr>\n",
    "<td>Damped natural frequency</td>\n",
    "<td>Frequency of oscillations in the step response.</td>\n",
    "<td>\\begin{equation}\n",
    "    \\omega_d = \\omega_n \\sqrt{1 - \\zeta^2}\n",
    "    \\end{equation}\n",
    "    </td>\n",
    "</tr>\n",
    "    \n",
    "<tr>\n",
    "<td>10-90% rising time</td>\n",
    "    <td>In a step response, it is the required time to go from 10% to 90% of the final value $y(\\infty)$.</td>\n",
    "<td>\\begin{equation}\n",
    "    t_r \\simeq \\frac{2.3 \\zeta^2 - 0.078 \\zeta + 1.12}{\\omega_n}\n",
    "    \\end{equation}\n",
    "    </td>\n",
    "</tr>\n",
    "\n",
    "<tr>\n",
    "<td>Peak time</td>\n",
    "<td>Time corresponding to the first maximum value of the step response.</td>\n",
    "<td>\\begin{equation}\n",
    "    t_p = \\frac{\\pi}{\\omega_n \\sqrt{1 - \\zeta^2}}\n",
    "    \\end{equation}\n",
    "    </td>\n",
    "</tr>\n",
    "    \n",
    "<tr>\n",
    "<td>2% settling time</td>\n",
    "<td>The time for the step response to reach and stay within 2% of the steady-state value $y(\\infty)$,\n",
    "    it is therefore the lowest $t_s$ so that: \n",
    "    \\begin{equation}\n",
    "    |y(t) - y(\\infty)| \\leq 0.02 y(\\infty), \\enspace \\forall t \\geq t_s\n",
    "    \\end{equation}\n",
    "    </td>\n",
    "<td>A conservative estimate can be found from the decay envelope, that is by finding the time \n",
    "    for the envelop to decay to less than 2% of its initial value: \n",
    "    \\begin{equation}\n",
    "    \\frac{\\exp(-\\zeta \\omega_n t)}{\\sqrt{1 - \\zeta^2}} \\leq 0.02\n",
    "    \\end{equation}\n",
    "    Giving\n",
    "    \\begin{equation}\n",
    "    t_s = - \\frac{\\ln(0.02\\sqrt{1-\\zeta^2})}{\\zeta \\omega_n}\n",
    "    \\end{equation}\n",
    "    </td>\n",
    "</tr>\n",
    "    \n",
    "<tr>\n",
    "<td>Overshoot</td>\n",
    "<td>If $y$ is the step response signal, it is defined by $O = \\frac{y(t_p) - y(\\infty)}{y(\\infty) - y(0)}$.</td>\n",
    "<td>\\begin{equation}\n",
    "    O = K.\\exp(-\\frac{\\zeta\\pi}{\\sqrt{1 - \\zeta^2}})\n",
    "    \\end{equation}\n",
    "    </td>\n",
    "</tr>\n",
    "    \n",
    "</tbody>\n",
    "</table>\n",
    "\n",
    "And the response of the system to a unit step can be expressed in time-domain by:\n",
    "\n",
    "\\begin{equation}\n",
    "y(t) = K \\bigg(1 - \\exp(-\\zeta \\omega_n t)\\Big(\\cos(\\omega_d t) + \\frac{\\zeta}{\\sqrt{1 - \\zeta^2}}\\sin(\\omega_d t)\\Big)\\bigg)\n",
    "\\end{equation}\n",
    "\n",
    "Using the equation of the overshoot, we can find the expression of $\\zeta$:\n",
    "\n",
    "\\begin{equation}\n",
    "\\zeta = \\sqrt{\\frac{\\log\\big(\\frac{O}{K}\\big)^2}{\\pi^2 + \\log\\big(\\frac{O}{K}\\big)^2}}\n",
    "\\end{equation}\n",
    "\n",
    "$\\zeta$ can then be used in the equation of the peak time to find the natural frequency:\n",
    "\n",
    "\\begin{equation}\n",
    "\\omega_n = \\frac{\\pi}{t_p \\sqrt{1 - \\zeta^2}}\n",
    "\\end{equation}\n",
    "\n",
    "A possible improvement of the model is the inclusion of a *dead time* $DT$.\n",
    "Such a thing can be provoked by mechanical friction in the system for instance.\n",
    "\n",
    "\\begin{equation}\n",
    "G(s) = \\exp(-DT.s)\\frac{K\\omega_n^2}{s^2 + 2\\zeta\\omega_ns + \\omega_n^2}\n",
    "\\end{equation}\n",
    "\n",
    "---\n",
    "\n",
    "**Some demonstrations…**\n",
    "\n",
    "*Expression of the overshoot:*\n",
    "\n",
    "\\begin{equation}\n",
    "y(t) = K \\bigg(1 - \\exp(-\\zeta \\omega_n t_p)\\Big(\\cos(\\omega_d t_p) + \\frac{\\zeta}{\\sqrt{1 - \\zeta^2}}\\sin(\\omega_d t_p)\\Big)\\bigg) \\\\\n",
    "y(t) = K \\bigg(1 - \\exp(-\\zeta \\omega_n t_p)\\Big(\\cos(\\pi) + \\frac{\\zeta}{\\sqrt{1 - \\zeta^2}}\\sin(\\pi)\\Big)\\bigg) \\\\\n",
    "y(t) = K \\bigg(1 + \\exp(-\\zeta \\omega_n t_p)\\bigg) \\\\\n",
    "y(t) = K \\bigg(1 + \\exp(-\\zeta \\omega_n \\frac{\\pi}{\\omega_n \\sqrt{1 - \\zeta^2}})\\bigg) \\\\\n",
    "y(t) = K \\bigg(1 + \\exp(-\\frac{\\pi \\zeta}{\\sqrt{1 - \\zeta^2}})\\bigg) \\\\\n",
    "y(t) = K (1 + O)\n",
    "\\end{equation}\n",
    "\n",
    "Hence $O = K.\\exp(-\\frac{\\zeta\\pi}{\\sqrt{1 - \\zeta^2}})$\n",
    "\n",
    "*Expression of the $\\zeta$:*\n",
    "\n",
    "\\begin{equation}\n",
    "O = K.\\exp(-\\frac{\\zeta\\pi}{\\sqrt{1 - \\zeta^2}}) \\\\\n",
    "\\implies \\frac{\\zeta \\pi}{\\sqrt{1 - \\zeta^2}} = \\log(\\frac{O}{K}) \\\\\n",
    "\\implies (\\zeta \\pi)^2 = \\log\\big(\\frac{O}{K}\\big)^2 (1 - \\zeta^2) \\\\\n",
    "\\implies \\zeta^2 \\Big(\\pi^2 + \\log\\big(\\frac{O}{K}\\big)^2\\Big) = \\log\\big(\\frac{O}{K}\\big)^2 \\\\\n",
    "\\implies \\zeta = \\sqrt{\\frac{\\log\\big(\\frac{O}{K}\\big)^2}{\\pi^2 + \\log\\big(\\frac{O}{K}\\big)^2}}\n",
    "\\end{equation}"
   ]
  },
  {
   "cell_type": "markdown",
   "metadata": {},
   "source": [
    "### Processing"
   ]
  },
  {
   "cell_type": "markdown",
   "metadata": {},
   "source": [
    "#### Functions"
   ]
  },
  {
   "cell_type": "code",
   "execution_count": null,
   "metadata": {},
   "outputs": [],
   "source": [
    "def get_zeta(overshoot, gain):\n",
    "    return np.sqrt(\n",
    "                (np.power(np.log(overshoot/gain), 2)) \\\n",
    "                /(np.power(np.pi, 2) + np.power(np.log(overshoot/gain), 2)))"
   ]
  },
  {
   "cell_type": "code",
   "execution_count": null,
   "metadata": {},
   "outputs": [],
   "source": [
    "def get_omegan(overshoot_time=None, zeta=None, omegad=None):\n",
    "    if zeta and omegad:\n",
    "        res = omegad / np.sqrt(1 - np.power(zeta, 2))\n",
    "    elif zeta and overshoot_time:\n",
    "        res = np.pi / (overshoot_time * np.sqrt(1 - np.power(zeta, 2)))\n",
    "    else:\n",
    "        raise ValueError('Cannot compute omega_n with given arguments.')\n",
    "    return res"
   ]
  },
  {
   "cell_type": "code",
   "execution_count": null,
   "metadata": {},
   "outputs": [],
   "source": [
    "class NoPeakFound(RuntimeError):\n",
    "    pass\n",
    "\n",
    "def get_omegad_possibilities(signal, sample_rate):\n",
    "    \"\"\"Get possible values of omega_d using a FFT on the signal.\n",
    "    \n",
    "    It is not possible to get the real value of omegad directly, because it\n",
    "    is hard to find the right peak among others in the FFT.\n",
    "    \"\"\"\n",
    "    spectrum = np.fft.fft(signal)\n",
    "    frequencies = np.fft.fftfreq(len(spectrum), sample_rate)\n",
    "    positive_spectrum = spectrum[np.where(frequencies > 0)]\n",
    "    peaks, peak_prop = scipysig.find_peaks(positive_spectrum, prominence=0.01)\n",
    "    if len(peaks) == 0:\n",
    "        raise NoPeakFound\n",
    "    # Keep only the first 10 peaks as it **very unlikely** that the damped\n",
    "    # frequency is after the 10th peak in the FFT\n",
    "    if len(peaks) > 10:\n",
    "        peaks = peaks[:10]\n",
    "    main_freqs = frequencies[peaks]\n",
    "    omegad_possibilities = main_freqs * 2.0 * np.pi\n",
    "    return omegad_possibilities"
   ]
  },
  {
   "cell_type": "code",
   "execution_count": null,
   "metadata": {},
   "outputs": [],
   "source": [
    "def get_dead_time(signal, time):\n",
    "    \"\"\"Find the initial dead time in a step signal.\n",
    "    \n",
    "    A signal is considered as out of the dead time when it moves more than 0.001 rad\n",
    "    (the noise limit).\n",
    "    \"\"\"\n",
    "    signal = np.array(signal)\n",
    "    time = np.array(time)\n",
    "    indice_of_first_move = np.where((abs(signal - signal[0]) > 0.001))[0][0]\n",
    "    start_time = time[indice_of_first_move - 1]\n",
    "    dead_time = start_time - time[0]\n",
    "    return dead_time"
   ]
  },
  {
   "cell_type": "code",
   "execution_count": null,
   "metadata": {},
   "outputs": [],
   "source": [
    "def compute_model_error(spr, tf, dead_time):\n",
    "    joint = spr.metadata['joint_name']\n",
    "    norm_df = sigutils.control.get_normalized_position_timeseries(spr.dataframe, spr.kpis['InitialCommandValue'], spr.kpis['CommandStepAmplitude'])\n",
    "    tsim, yout, xout = scipysig.lsim(system=tf, \n",
    "                                      U=norm_df[joint + 'PositionActuatorValue'],\n",
    "                                      T=norm_df['Time'],\n",
    "                                      interp=False)\n",
    "    dead_time_in_samples = int(dead_time // spr.dataframe['TimeDispersion'].mean())\n",
    "    # Compute absolute error signal\n",
    "    if dead_time_in_samples > 0:\n",
    "        error_sig = abs(norm_df[joint + 'PositionSensorValue'].iloc[dead_time_in_samples:] - yout[:-dead_time_in_samples])\n",
    "    else:\n",
    "        error_sig = abs(norm_df[joint + 'PositionSensorValue'] - yout)\n",
    "    error_sum = error_sig.sum()\n",
    "\n",
    "    return error_sum\n",
    "    "
   ]
  },
  {
   "cell_type": "code",
   "execution_count": null,
   "metadata": {},
   "outputs": [],
   "source": [
    "def get_2nd_order_tf(gain, omegan, zeta):\n",
    "    num = [gain * np.power(omegan, 2)]\n",
    "    den = [1, \n",
    "           2 * zeta * omegan, \n",
    "           np.power(omegan, 2)]\n",
    "\n",
    "    tf = scipysig.TransferFunction(num, den)\n",
    "    return tf"
   ]
  },
  {
   "cell_type": "code",
   "execution_count": null,
   "metadata": {},
   "outputs": [],
   "source": [
    "class CannotFindTF(RuntimeError):\n",
    "    pass\n",
    "\n",
    "def get_2nd_order_tf_for_spr(spr):\n",
    "    \"\"\"Return a tf and a delay for a step\n",
    "    \n",
    "    Args:\n",
    "        spr: (ProcessingResult) a ProcessingResult object of a step.        \n",
    "    Return:\n",
    "        tf: scipy.signal.TransferFunction object.\n",
    "        dead_time: the dead time delay to add to the response\n",
    "    \"\"\"    \n",
    "    joint_name = spr.metadata['joint_name']\n",
    "    \n",
    "    # Compute parameters ---------------------------------------------------------------\n",
    "    dead_time = get_dead_time(spr.dataframe[joint_name + 'PositionSensorValue'], spr.dataframe['Time'])\n",
    "    \n",
    "    gain = ((spr.kpis['FinalSensorValue'] - spr.kpis['InitialCommandValue']) \n",
    "            / spr.kpis['CommandStepAmplitude'])\n",
    "    \n",
    "    zeta = get_zeta(spr.kpis['OvershootPercentage']/100.0, gain)\n",
    "    \n",
    "    try:\n",
    "        omegad_possibilities = get_omegad_possibilities(\n",
    "                                    spr.dataframe[joint_name + 'PositionSensorValue'], \n",
    "                                    spr.dataframe['TimeDispersion'].mean())\n",
    "    except NoPeakFound:\n",
    "        raise CannotFindTF\n",
    "    \n",
    "    # Find the best estimation of omegad -----------------------------------------------\n",
    "    \n",
    "    # Compute the error for every possible omegad\n",
    "    error_list = []\n",
    "    for omegad in omegad_possibilities:\n",
    "        omegan = get_omegan(zeta=zeta, omegad=omegad)\n",
    "        tf = get_2nd_order_tf(gain, omegan, zeta)\n",
    "        # Compute error between real curve and modeled one\n",
    "        error_list.append(compute_model_error(spr, tf, dead_time))\n",
    "    \n",
    "    # Get the omegad implying the minimum error\n",
    "    min_error_index = error_list.index(min(error_list))\n",
    "    best_omegad = omegad_possibilities[min_error_index]\n",
    "\n",
    "    # Compute the most suitable transfer function --------------------------------------\n",
    "    omegan = get_omegan(zeta=zeta, omegad=best_omegad)\n",
    "    tf = get_2nd_order_tf(gain, omegan, zeta)\n",
    "\n",
    "    return tf, dead_time"
   ]
  },
  {
   "cell_type": "code",
   "execution_count": null,
   "metadata": {},
   "outputs": [],
   "source": [
    "def add_tf_to_every_step_data(op_group_step_data):\n",
    "    \"\"\"Add transfer functions to all steps of an operating point.\n",
    "    \n",
    "    Nothing is returned because transfer functions are added as a new entry\n",
    "    in the 'kpis' dictionary of ProcessingResult objects.\n",
    "    \n",
    "    Args:\n",
    "        op_group_step_data: (List[dict]) synthesis of steps for a single operating group\n",
    "    \"\"\"\n",
    "    for step_processing_result in tqdm_notebook(op_group_step_data['processing_results'], leave=False):\n",
    "        try:\n",
    "            tf, dead_time = get_2nd_order_tf_for_spr(step_processing_result)\n",
    "        except CannotFindTF:\n",
    "            step_processing_result.kpis['transfer_function'] = None\n",
    "            step_processing_result.kpis['dead_time'] = None\n",
    "        else:\n",
    "            step_processing_result.kpis['transfer_function'] = tf\n",
    "            step_processing_result.kpis['dead_time'] = dead_time"
   ]
  },
  {
   "cell_type": "markdown",
   "metadata": {},
   "source": [
    "#### Processing on joint data"
   ]
  },
  {
   "cell_type": "code",
   "execution_count": null,
   "metadata": {},
   "outputs": [],
   "source": [
    "# Get data\n",
    "joint_name = 'Joint1'\n",
    "all_operating_groups = get_joint_step_data(joint_name)"
   ]
  },
  {
   "cell_type": "code",
   "execution_count": null,
   "metadata": {},
   "outputs": [],
   "source": [
    "# Compute and save transfer function for every single step\n",
    "for op_group_step_data in tqdm_notebook(all_operating_groups, leave=False):\n",
    "    add_tf_to_every_step_data(op_group_step_data)"
   ]
  },
  {
   "cell_type": "code",
   "execution_count": null,
   "metadata": {},
   "outputs": [],
   "source": [
    "def select_random_steps(all_operating_groups, quantity):\n",
    "    \"\"\"Select random steps with an identified transfer function\"\"\"\n",
    "    step_list = []\n",
    "    while len(step_list) < quantity:\n",
    "        # select random group\n",
    "        group_index = np.random.randint(0, len(all_operating_groups) - 1)\n",
    "        step_index = np.random.randint(0, len(all_operating_groups[group_index]['processing_results']) - 1)\n",
    "        new_step = all_operating_groups[group_index]['processing_results'][step_index]\n",
    "        if new_step.kpis['transfer_function'] is None:\n",
    "            # This step does not have an identification… try again\n",
    "            continue\n",
    "        step_list.append(new_step)\n",
    "    return step_list"
   ]
  },
  {
   "cell_type": "code",
   "execution_count": null,
   "metadata": {},
   "outputs": [],
   "source": [
    "# Select some random steps\n",
    "random_steps = select_random_steps(all_operating_groups, 5)"
   ]
  },
  {
   "cell_type": "code",
   "execution_count": null,
   "metadata": {},
   "outputs": [],
   "source": [
    "# Display the identification result of these random steps\n",
    "fig, axes = plt.subplots(5,1, figsize=(15,10))\n",
    "for index, step in enumerate(random_steps):\n",
    "    joint = step.metadata['joint_name']\n",
    "    ax = axes[index]\n",
    "    norm_df = sigutils.control.get_normalized_position_timeseries(step.dataframe, step.kpis['InitialCommandValue'], step.kpis['CommandStepAmplitude'])\n",
    "    half_data_size = step.dataframe['Time'].size // 8\n",
    "    simulation_result = scipysig.lsim(system=step.kpis['transfer_function'], \n",
    "                                      U=norm_df[joint + 'PositionActuatorValue'],\n",
    "                                      T=norm_df['Time'],\n",
    "                                      interp=False)\n",
    "    \n",
    "    ax.plot(norm_df['Time'].iloc[:half_data_size], \n",
    "            norm_df[joint + 'PositionActuatorValue'].iloc[:half_data_size],\n",
    "            c='r')\n",
    "    ax.plot(norm_df['Time'].iloc[:half_data_size], \n",
    "            norm_df[joint + 'PositionSensorValue'].iloc[:half_data_size],\n",
    "            c='b')\n",
    "    ax.plot(simulation_result[0][:half_data_size] + step.kpis['dead_time'], \n",
    "            simulation_result[1][:half_data_size],\n",
    "            c='orange')\n",
    "\n",
    "fig.tight_layout()"
   ]
  },
  {
   "cell_type": "markdown",
   "metadata": {},
   "source": [
    "## Identification by non-linear regression"
   ]
  },
  {
   "cell_type": "code",
   "execution_count": null,
   "metadata": {},
   "outputs": [],
   "source": [
    "# Todo!"
   ]
  }
 ],
 "metadata": {
  "kernelspec": {
   "display_name": "Python 3",
   "language": "python",
   "name": "python3"
  },
  "language_info": {
   "codemirror_mode": {
    "name": "ipython",
    "version": 3
   },
   "file_extension": ".py",
   "mimetype": "text/x-python",
   "name": "python",
   "nbconvert_exporter": "python",
   "pygments_lexer": "ipython3",
   "version": "3.6.6"
  },
  "toc-showtags": false
 },
 "nbformat": 4,
 "nbformat_minor": 2
}
