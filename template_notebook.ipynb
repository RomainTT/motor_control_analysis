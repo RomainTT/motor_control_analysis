{
 "cells": [
  {
   "cell_type": "markdown",
   "metadata": {
    "slideshow": {
     "slide_type": "slide"
    },
    "toc-hr-collapsed": false
   },
   "source": [
    "# Motor control performance analysis - Template notebook"
   ]
  },
  {
   "cell_type": "markdown",
   "metadata": {},
   "source": [
    "<span style='color:red;font-style: italic;font-family:monospace'>This is a template document which must be modified. Some red text is written on various locations in this document to help the writer to do so.</span>"
   ]
  },
  {
   "cell_type": "markdown",
   "metadata": {
    "slideshow": {
     "slide_type": "slide"
    }
   },
   "source": [
    "## Introduction"
   ]
  },
  {
   "cell_type": "markdown",
   "metadata": {
    "slideshow": {
     "slide_type": "subslide"
    }
   },
   "source": [
    "### Context and objective"
   ]
  },
  {
   "cell_type": "markdown",
   "metadata": {},
   "source": [
    "This notebook aims at analysing data about motor control. It is tried to assess every usual performance indicator of a motor control. Raw data comes from previous measurements done separatly.\n",
    "\n",
    "<span style='color:red;font-style: italic;font-family:monospace'>Complete this by precising where data comes from, what are the samples with their versions, and what the results below will be used for.</span>"
   ]
  },
  {
   "cell_type": "markdown",
   "metadata": {
    "slideshow": {
     "slide_type": "subslide"
    }
   },
   "source": [
    "### How to read this document"
   ]
  },
  {
   "cell_type": "markdown",
   "metadata": {},
   "source": [
    "This document is a [Jupyter notebook](https://jupyter-notebook.readthedocs.io/en/stable/notebook.html). Here is a definition of it extracted from the official documentation:\n",
    "\n",
    "> Notebook documents [...] are documents produced by the Jupyter Notebook App, which contain both computer code (e.g. python) and rich text elements (paragraph, equations, figures, links, etc…). Notebook documents are both human-readable documents containing the analysis description and the results (figures, tables, etc..) as well as executable documents which can be run to perform data analysis.\n",
    "\n",
    "The following table explains the purpose of each part of this document. As this document is very technical, **do no hesitate to jump directly to the part of interest for your needs.**\n",
    "\n",
    "<span style='color:red;font-style: italic;font-family:monospace'>Complete this table with your additional parts.</span>\n",
    "\n",
    "<table>\n",
    "<thead>\n",
    "<tr>\n",
    "<th>Section</th>\n",
    "<th>Description</th>\n",
    "</tr>\n",
    "</thead>\n",
    "<tbody>\n",
    "<tr>\n",
    "<td><a href=\"#About-data\">About data</a></td>\n",
    "<td>Details the content of data used to compute performance indicators.</td>\n",
    "</tr>\n",
    "<tr>\n",
    "<td><a href=\"#About-analysis\">About analysis</a></td>\n",
    "<td>Details how data is sorted, what are the indicators and how they are calculated.</td>\n",
    "</tr>\n",
    "<tr>\n",
    "<td><a href=\"#Import-of-Python-packages\">Import of Python packages</a></td>\n",
    "<td>Pure python code, to import packages used in the rest of the notebook.</td>\n",
    "</tr>\n",
    "<tr>\n",
    "<td><a href=\"#Declaration-of-constants\">Declaration of constants</a></td>\n",
    "<td>Python code with explanations to declare some constants used in the rest of the notebook.</td>\n",
    "</tr>\n",
    "<tr>\n",
    "<td><a href=\"#Import-of-raw-data\">Import of raw data</a></td>\n",
    "<td>Details about the source of data and Python code to import them.</td>\n",
    "</tr>\n",
    "<tr>\n",
    "<td><a href=\"#Useful-generic-functions\">Useful generic functions</a></td>\n",
    "<td>Declaration of Python functions that are required to browse data, do the analysis and display charts.</td>\n",
    "</tr>\n",
    "<tr>\n",
    "<td><a href=\"#Analysis\">Analysis</a></td>\n",
    "<td>Compute performance indicators and display synthesis pages.</td>\n",
    "</tr>\n",
    "</tbody>\n",
    "</table>\n"
   ]
  },
  {
   "cell_type": "markdown",
   "metadata": {
    "slideshow": {
     "slide_type": "slide"
    }
   },
   "source": [
    "## About data"
   ]
  },
  {
   "cell_type": "markdown",
   "metadata": {
    "slideshow": {
     "slide_type": "subslide"
    }
   },
   "source": [
    "### About the protocols"
   ]
  },
  {
   "cell_type": "markdown",
   "metadata": {},
   "source": [
    "Two kinds of protocols have been applied to collect data.\n",
    "\n",
    "* Apply a series of step commands on the input position of the actuator on the whole available angular range. Different amplitudes and slope of steps are used successively. <img src=\"resources/step_protocol.png\" alt=\"Step illustration\" width=\"600\">\n",
    "* Apply a sine curve on the input position of the actuator. The sine is centered on a chosen starting angle (see postures below). Different amplitudes and frequencies are used successively. <img src=\"resources/sinus_protocol.png\" alt=\"Step illustration\" width=\"600\">"
   ]
  },
  {
   "cell_type": "markdown",
   "metadata": {},
   "source": [
    "<span style='color:red;font-style: italic;font-family:monospace'>Complete this by precising how data has been retrieved, what is the sample rate, and where they are stored.</span>"
   ]
  },
  {
   "cell_type": "markdown",
   "metadata": {
    "slideshow": {
     "slide_type": "subslide"
    }
   },
   "source": [
    "### About the file structures"
   ]
  },
  {
   "cell_type": "markdown",
   "metadata": {},
   "source": [
    "Here are the different types of files this notebook is dealing with:\n",
    "\n",
    "* **Timeseries of sine movements**  \n",
    "  CSV files (`.csv`) with a column `Time` and some columns for actuators and sensors data.\n",
    "  Their file name must *contain* `<system_name>_sine` where `<system_name>`\n",
    "  is the name of the system which is tested in this file (it can be a joint name, a motor name, a module name, etc).  \n",
    "  Example: `Joint1_sine_measurement1.csv`  \n",
    "  *WARNING:* TIME MUST BE IN SECONDS. It can be a float to indicate milliseconds.\n",
    "* **Timeseries of step movements**  \n",
    "  CSV files with a column `Time` and some columns for actuators and sensors data.\n",
    "  Their file name must *contain* `<system_name>_step` where `<system_name>`\n",
    "  is the name of the system which is tested in this file (it can be a joint name, a motor name, a module name, etc).  \n",
    "  Example: `Joint1_step_measurement1.csv`\n",
    "* **Metadata of sine movements**  \n",
    "  YAML files (`.yaml`) which contain metadata about a timeseries file for sine movements.\n",
    "  Their file name must be the same than the CSV file, except the `.yaml` extension.  \n",
    "  Example: `Joint1_sine_measurement1.yaml`  \n",
    "  They must contain a mapping named `MeasurementInfo` with information about the system and its state,\n",
    "  with at least the key `SystemName` being the name of the system under study.\n",
    "  For instance, if the system under study is a joint on a robot, there must be the following entries:\n",
    "    * `RobotID`\n",
    "    * `StartPosition`\n",
    "    * `SystemName` (in this case, it is the name of the joint)\n",
    "* **Metadata of step movements**  \n",
    "  Same description than for sine movements, but for steps.\n"
   ]
  },
  {
   "cell_type": "markdown",
   "metadata": {
    "slideshow": {
     "slide_type": "subslide"
    }
   },
   "source": [
    "### About data source"
   ]
  },
  {
   "cell_type": "markdown",
   "metadata": {},
   "source": [
    "To learn more about data which is downloaded and processed in this study, please refer to [the section about data import](#Import-of-raw-data)."
   ]
  },
  {
   "cell_type": "markdown",
   "metadata": {
    "slideshow": {
     "slide_type": "slide"
    },
    "toc-hr-collapsed": false
   },
   "source": [
    "## About analysis"
   ]
  },
  {
   "cell_type": "markdown",
   "metadata": {
    "toc-hr-collapsed": true
   },
   "source": [
    "### Performance indicators"
   ]
  },
  {
   "cell_type": "markdown",
   "metadata": {
    "slideshow": {
     "slide_type": "subslide"
    }
   },
   "source": [
    "#### Indicators based on a step command"
   ]
  },
  {
   "cell_type": "markdown",
   "metadata": {
    "slideshow": {
     "slide_type": "subslide"
    }
   },
   "source": [
    "Extracted from [Wikipedia](https://en.wikipedia.org/wiki/Step_response):\n",
    "\n",
    "> The step response of a system in a given initial state consists of the time evolution of its outputs when its control input change from zero to one in a very short time. Formally, knowing the step response of a dynamical system gives information on the stability of such a system, and on its ability to reach one stationary state when starting from another. \n",
    "\n",
    "The figure below presents the characteristics (performance indicators) which can be extracted from a response to a step, supposing that the system is a *second order system* (which is an approximation for the joints of the robot). The meaning of each indicator is detailed afterwards.\n",
    "\n",
    "![](resources/step_kpis.png)\n",
    "\n",
    "* **Noise band**  \n",
    "  A range of percentage in which the response stay after stabilizing. It has been decided to choose 10% after a first analysis of data.\n",
    "* **$t_{10}$: 10% Rising time**  \n",
    "  The time taken by the system to reach 10% of the response amplitude. If $y$ is the response signal, $y(t_{10}) = 0.1 \\times \\big(y(\\infty) - y(0)\\big)$\n",
    "* **$t_{90}$: 90% Rising time**  \n",
    "  The time taken by the system to reach 90% of the response amplitude. If $y$ is the response signal, $y(t_{90}) = 0.9 \\times \\big(y(\\infty) - y(0)\\big)$\n",
    "* **$t_o$: Overshoot time**  \n",
    "  The time taken by the system to reach the peak of the first overshoot, if there is an overshoot.\n",
    "* **$t_s$: Settling time**  \n",
    "  The time taken by the system to reach and stay in its *noise band*. This definition is specific for the needs of this study and can be different from what can be found in scientific literature. In our case, with a noise band of ±5%, it is the lowest $t_s$ so that $|y(t) - y(\\infty)| \\leq 0.05 y(\\infty), \\enspace \\forall t \\geq t_s$\n",
    "* **$o$: Overshoot**  \n",
    "  If $y$ is the response signal, it is defined by $O = \\frac{y(t_o) - y(\\infty)}{y(\\infty) - y(0)}$. </br>\n",
    "* **$e$: Steady state error**  \n",
    "  The difference between the final value of the response and the step value. When the response is noisy, the final value of the response is the mean of the noise band.\n",
    "\n",
    "Another indicator which is calculated but not visible on the position response is the **maximum current** reached during the movement."
   ]
  },
  {
   "cell_type": "markdown",
   "metadata": {
    "slideshow": {
     "slide_type": "subslide"
    }
   },
   "source": [
    "#### Indicators based on a sinusoidal command"
   ]
  },
  {
   "cell_type": "markdown",
   "metadata": {},
   "source": [
    "The sine response of a system in a given initial state consists of the time evolution of its outputs when its control input is a sine wave. It allows to get the frequency response of the system.\n",
    "Extracted from [Wikipedia](https://en.wikipedia.org/wiki/Frequency_response):\n",
    "\n",
    "> Frequency response is the quantitative measure of the output spectrum of a system in response to a stimulus, and is used to characterize the dynamics of the system. It is a measure of magnitude and phase of the output as a function of frequency, in comparison to the input. In simplest terms, if a sine wave is injected into a system at a given frequency, a linear system will respond at that same frequency with a certain magnitude and a certain phase angle relative to the input.\n",
    "\n",
    "The figure below presents the characteristics (performance indicators) which can be extracted from a response to a sine wave. The meaning of each indicator is detailed afterwards.\n",
    "\n",
    "![](resources/sine_kpis.png)\n",
    "\n",
    "* **$Δ_φ$: Phase shift**  \n",
    "  The difference of phase between the input and the response. It can be given as a time delay (knowing the frequency), or as an angle (radians or degrees).\n",
    "* **$G$: Gain**  \n",
    "  The ratio of the response amplitude over the input amplitude.\n",
    "* **$of$: Offset**  \n",
    "  The difference of mean value between the response and the input.\n"
   ]
  },
  {
   "cell_type": "markdown",
   "metadata": {
    "slideshow": {
     "slide_type": "subslide"
    }
   },
   "source": [
    "### More about response times"
   ]
  },
  {
   "cell_type": "markdown",
   "metadata": {},
   "source": [
    "* Steps cannot really be discontinuous nor have a slope near from infinity because tests are done on real actuators. A maximum speed is not exceeded to avoid breaking the joints.\n",
    "* Moreover, amplitude of steps is not a unit, because it would restrict the operating points of the joints. Several different amplitudes are used for the steps to get various data.\n",
    "\n",
    "Because of the two points above, an absolute rising time of the control cannot be directly measured on data as it changes in function of the slope and the amplitude of the step. What can be done is to plot the response time in function of the amplitude and slope. To avoid having two parameters (amplitude and slope), amplitude is normalized to 1 and the normalized speed only will be used in the chart. It is therefore obtained the curve of the *rising time* ($T_r$) in function of *normalized speed of the unit step* ($S_s$). This curve can be interpolated by the following equation: \n",
    "\\begin{equation}\n",
    "\\forall \\{a,b,S_s\\} \\in \\Re^+ :\\quad  T_r(S_s) = \\frac{a}{S_s} + b\n",
    "\\end{equation}\n",
    "This equation presents two asymptotes. **The horizontal asymptote corresponds to the rising time of the system for a step with an infinite speed**. It is the value of this horizontal asymptote which is used to charaterize the control. But to perform comparison on real systems, the whole curve is necessary as infinite speed cannot be reached.\n",
    "\n",
    "In the same way, an asymptote can be found for the maximum *rising speed* ($V_r$) of the system. The difference is the equation of the curve which is, in this case:\n",
    "\\begin{equation}\n",
    "\\forall \\{a,b,S_s\\} \\in \\Re^+ :\\quad  V_r(S_s) = a \\times (1 - \\exp(-\\frac{S_s}{b}))\n",
    "\\end{equation}"
   ]
  },
  {
   "cell_type": "markdown",
   "metadata": {
    "slideshow": {
     "slide_type": "subslide"
    }
   },
   "source": [
    "### Operating points"
   ]
  },
  {
   "cell_type": "markdown",
   "metadata": {
    "slideshow": {
     "slide_type": "-"
    }
   },
   "source": [
    "The parameters used to make the difference between operating points are:\n",
    "* **Steady state current**  \n",
    "  Image of the torque.\n",
    "* **Load direction**  \n",
    "  Whether the motor tries to counter the load (the gravity) or is dragged by it.\n",
    "  It can also be defined as the direction of the torque compared to the direction of the movement.\n",
    "  This parameter only concerns the steps and not the sine waves, as in a sinusoidal movement the\n",
    "  joint is alternatively following and countering the gravity.\n",
    "* **Temperature**  \n",
    "  Temperature can change the constants of the motor.\n",
    "\n",
    "Some groups are made using these three parameters, and each one of these groups is an operating point (or operating group) which has its own performances. System under studies are approximated as **second order linear systems** inside the ranges of an operating group.\n",
    "\n",
    "To be able to compute performance indicators with enough confidence, data size must be large enough. It has been decided not to keep operating groups with less than **50 samples**."
   ]
  },
  {
   "cell_type": "markdown",
   "metadata": {},
   "source": [
    "### Representations of indicators"
   ]
  },
  {
   "cell_type": "markdown",
   "metadata": {},
   "source": [
    "There are two types of charts which are used to display values of indicators about steps.\n",
    "\n",
    "* One is a simple box plot:\n",
    "  - Lower line of the box is the 1st quartile\n",
    "  - Upper line of the box is the 3rd quartile\n",
    "  - Middle line of the box is the median\n",
    "  - Upper and lower whiskers are the limits before outliers, and are defined as $median \\pm 1.5 \\times (quartile_3 - quartile_1)$\n",
    "* The other is a scatter plot of the indicator value in function of the speed of the step.\n",
    "  It is not the actual speed of the step, but its speed once the amplitude of the step has been normalized to be equal to 1.\n",
    "  Therefore, if $A$ is the actual amplitude of the step and $S$ its actual speed, then its normalized amplitude is $\\frac{A}{A}$\n",
    "  and its normalized speed is $\\frac{S}{A}$.   \n",
    "  Some orange lines are visible on this chart, they must be understood like a box plot, but with moving limits in function of\n",
    "  the step speed.\n",
    "\n",
    "![types of charts](resources/types_of_charts.png)"
   ]
  },
  {
   "cell_type": "markdown",
   "metadata": {
    "slideshow": {
     "slide_type": "subslide"
    }
   },
   "source": [
    "### Synthesis pages"
   ]
  },
  {
   "cell_type": "markdown",
   "metadata": {},
   "source": [
    "For each joint and for each operating group, two synthesis pages are generated: \n",
    "  * one presenting the performance indicators based on a step,\n",
    "  * and the other presenting the performance indicators based on a sine wave.\n",
    "\n",
    "Each page contains information about the operating group, an overview of the raw responses, and values of performance indicators. Performance indicators do not have a single value, statistical results are given for each one of them instead, based on all the available data of the operating group. This allows to create a kind of abacus for the response of a joint.\n",
    "\n",
    "Here is an example of a sythesis page:\n",
    "\n",
    "<img src=\"resources/step_synthesis_example.png\" alt=\"Synthesis example\" width=\"600\">"
   ]
  },
  {
   "cell_type": "markdown",
   "metadata": {
    "slideshow": {
     "slide_type": "slide"
    },
    "toc-hr-collapsed": false
   },
   "source": [
    "## Import of Python packages"
   ]
  },
  {
   "cell_type": "markdown",
   "metadata": {},
   "source": [
    "### Built-in packages"
   ]
  },
  {
   "cell_type": "code",
   "execution_count": 2,
   "metadata": {},
   "outputs": [],
   "source": [
    "# Add necessary built-in packages here"
   ]
  },
  {
   "cell_type": "markdown",
   "metadata": {},
   "source": [
    "### Installed packages"
   ]
  },
  {
   "cell_type": "code",
   "execution_count": 3,
   "metadata": {},
   "outputs": [],
   "source": [
    "# Add necessary installed packages here"
   ]
  },
  {
   "cell_type": "markdown",
   "metadata": {},
   "source": [
    "### Local packages"
   ]
  },
  {
   "cell_type": "code",
   "execution_count": 3,
   "metadata": {},
   "outputs": [],
   "source": [
    "from utils import signal as sigutils\n",
    "from utils import data as datautils\n",
    "from utils import plot as plotutils"
   ]
  },
  {
   "cell_type": "markdown",
   "metadata": {
    "slideshow": {
     "slide_type": "slide"
    }
   },
   "source": [
    "## Declaration of constants"
   ]
  },
  {
   "cell_type": "markdown",
   "metadata": {},
   "source": [
    "<span style='color:red;font-style: italic;font-family:monospace'>\n",
    "    Add here any Python constant that may be useful in the rest of the notebook.\n",
    "    It is also better if you explain the purpose and the content of these constants\n",
    "    in markdown.\n",
    "</span>"
   ]
  },
  {
   "cell_type": "markdown",
   "metadata": {},
   "source": [
    "## Import of raw data"
   ]
  },
  {
   "cell_type": "markdown",
   "metadata": {},
   "source": [
    "<span style='color:red;font-style: italic;font-family:monospace'>\n",
    "    Explain here where your data comes from and how you collected it.\n",
    "    Write code to fetch files or re-organize data if necessary. For instance if your files are on a FTP server, you can download them in this part of the notebook. If your CSV files need some cleaning before being processed, you can also do it here.\n",
    "</span>"
   ]
  },
  {
   "cell_type": "markdown",
   "metadata": {
    "toc-hr-collapsed": false
   },
   "source": [
    "## Useful generic functions"
   ]
  },
  {
   "cell_type": "markdown",
   "metadata": {},
   "source": [
    "All of the functions that can be used in several notebooks or scripts are written in seperate files in the module `utils`. Functions that are written in this notebook in the following section are specific for the goals of this notebook and it is not interesting to write them in some side files. \n",
    "\n",
    "To have a deep understanding of the data processing and chart plotting, the reader is invited to read the content of the `utils` package. It contains functions to:\n",
    "  * process timeseries, \n",
    "  * compute performance indicators from step and sine signals,\n",
    "  * create custom charts\n",
    "  * create custom images"
   ]
  },
  {
   "cell_type": "markdown",
   "metadata": {},
   "source": [
    "### Data browsing and reading"
   ]
  },
  {
   "cell_type": "markdown",
   "metadata": {},
   "source": [
    "Some of the functions that are used to fetch data are in a separate file `utils.data`. Here are explained the most important functions:\n",
    "  * `get_all_processed_data`: Get all the processing results for steps or sines from the given CSV files.\n",
    "  * `get_operating_groups`: Split results into groups, one for each operating point.\n",
    "  * `store_op_data`: Store data of an operating point in a pickle file.\n",
    "  * `load_op_data`: Load data of an operating point from a pickle file.\n",
    "  \n",
    "<span style='color:red;font-style: italic;font-family:monospace'>Add here the custom functions you need to get and browse your data.</span>"
   ]
  },
  {
   "cell_type": "code",
   "execution_count": 1,
   "metadata": {},
   "outputs": [],
   "source": [
    "def get_step_csv_paths():\n",
    "    # PLEASE COMPLETE THIS FUNCTION AS IT IS USED IN THE REST OF THE TEMPLATE\n",
    "    return"
   ]
  },
  {
   "cell_type": "markdown",
   "metadata": {},
   "source": [
    "### Signal processing"
   ]
  },
  {
   "cell_type": "markdown",
   "metadata": {},
   "source": [
    "All of the functions that are used to process timeseries are in separate files in the package `utils.signal`. Here are explained the most important functions:\n",
    "  * `process_sine_signal`: processes a .csv file which contains the logs of a sinusoidal movement. It extracts the `pandas` DataFrame from it and the motor control performance indicators that can be found on a sinusoidal movement.\n",
    "  * `process_steps_signal` processes a .csv file which contains the logs of a sequence of steps. It detects and extract each step from the whole signal. For each step, it returns the `pandas` DataFrame containing it and the motor control performances indicators that can be found on a single step.\n",
    "  * `get_normalized_position_timeseries`: used to be able to compare several signals of different offsets and amplitudes.\n",
    "  * `get_data_fit`: Used to fit a theorical curve equation on real data."
   ]
  },
  {
   "cell_type": "markdown",
   "metadata": {},
   "source": [
    "### Display"
   ]
  },
  {
   "cell_type": "markdown",
   "metadata": {},
   "source": [
    "All of the functions that are used to process timeseries are in separate files in the package `utils.signal`. Here are explained the most important functions:\n",
    "\n",
    "* `display_step_responses`: Display all normalized step commands and responses on a single chart.\n",
    "* `display_bode`: Display the Bode diagram based en processed sine waves.\n",
    "* `display_kpi_over_step_speed`: Display a chart of a KPI in function of normalized step speed.\n",
    "* `display_kpi_distribution`: Get and display the distribution of a KPI for given processing results.\n",
    "* `display_op_groups`: Display the data distribution among operating groups.\n",
    "* `display_step_synthesis_pages`: Build, display and save KPI synthesis for steps.\n",
    "* `display_sine_synthesis_pages`: Build, display and save KPI synthesis for sine waves.\n"
   ]
  },
  {
   "cell_type": "markdown",
   "metadata": {},
   "source": [
    "## Analysis"
   ]
  },
  {
   "cell_type": "markdown",
   "metadata": {},
   "source": [
    "### (To be replaced:) System name"
   ]
  },
  {
   "cell_type": "code",
   "execution_count": 1,
   "metadata": {},
   "outputs": [],
   "source": [
    "system_name = 'system_name'"
   ]
  },
  {
   "cell_type": "markdown",
   "metadata": {},
   "source": [
    "#### Data collection"
   ]
  },
  {
   "cell_type": "markdown",
   "metadata": {},
   "source": [
    "First, process data and extract every step and sine and its associated KPIs from all the raw data files."
   ]
  },
  {
   "cell_type": "code",
   "execution_count": null,
   "metadata": {
    "scrolled": true
   },
   "outputs": [],
   "source": [
    "csv_paths = get_step_csv_paths() # THIS FUNCTION IS EMPTY IN THE TEMPLATE, PLEASE WRITE IT\n",
    "processed_steps = datautils.get_all_processed_data(csv_paths)\n",
    "data_size = len(processed_steps)\n",
    "print('After processing all the available data, a total of {} steps '\n",
    "      'have been collected on {}.'.format(data_size, system_name))"
   ]
  },
  {
   "cell_type": "code",
   "execution_count": null,
   "metadata": {},
   "outputs": [],
   "source": [
    "csv_paths = get_sine_csv_paths() # THIS FUNCTION IS EMPTY IN THE TEMPLATE, PLEASE WRITE IT\n",
    "processed_sines = datautils.get_all_processed_data(csv_paths)\n",
    "data_size = len(processed_sines)\n",
    "print('After processing all the available data, a total of {} steps '\n",
    "      'have been collected on {}.'.format(data_size, system_name))"
   ]
  },
  {
   "cell_type": "markdown",
   "metadata": {},
   "source": [
    "#### Operating points split"
   ]
  },
  {
   "cell_type": "markdown",
   "metadata": {},
   "source": [
    "Steps are split into several groups, each group being an operating point of the motor. To learn more about how operating points are selected, please refer to [section about operating points](#Operating-points)."
   ]
  },
  {
   "cell_type": "code",
   "execution_count": null,
   "metadata": {},
   "outputs": [],
   "source": [
    "# For this joint, it is decided to split\n",
    "# current consumptions into ranges of 0.5A\n",
    "current_bin_size = 0.5\n",
    "\n",
    "# and temperature into ranges of 30°C\n",
    "temperature_bin_size = 30"
   ]
  },
  {
   "cell_type": "code",
   "execution_count": null,
   "metadata": {},
   "outputs": [],
   "source": [
    "step_op_groups, uncat = datautils.get_operating_groups(processed_steps, current_bin_size,\n",
    "                                      temperature_bin_size, min_size=50)\n",
    "\n",
    "print(('{} operating groups are obtained for steps\\n'\n",
    "      '{} steps are uncategorizable.').format(len(step_op_groups), len(uncat)))\n",
    "\n",
    "plotutils.display_op_groups(step_op_groups, data_type='step')"
   ]
  },
  {
   "cell_type": "code",
   "execution_count": null,
   "metadata": {},
   "outputs": [],
   "source": [
    "sine_op_groups, uncat = datautils.get_operating_groups(processed_sines, current_bin_size, \n",
    "                                      temperature_bin_size, min_size=1)\n",
    "\n",
    "print(('{} operating groups are obtained for sines\\n'\n",
    "      '{} sines are uncategorizable.').format(len(sine_op_groups), len(uncat)))\n",
    "\n",
    "plotutils.display_op_groups(sine_op_groups, data_type='sine')"
   ]
  },
  {
   "cell_type": "markdown",
   "metadata": {},
   "source": [
    "#### Synthesis"
   ]
  },
  {
   "cell_type": "markdown",
   "metadata": {},
   "source": [
    "For each operating point, a page of synthesis is generated. To learn more about them, please refer to section [\"section about synthesis pages\"](#Synthesis-pages)"
   ]
  },
  {
   "cell_type": "code",
   "execution_count": null,
   "metadata": {
    "scrolled": true
   },
   "outputs": [],
   "source": [
    "imgs = plotutils.display_step_synthesis_pages(processed_steps, step_op_groups, system_name)"
   ]
  },
  {
   "cell_type": "code",
   "execution_count": null,
   "metadata": {
    "scrolled": true
   },
   "outputs": [],
   "source": [
    "imgs = plotutils.display_sine_synthesis_pages(processed_sines, sine_op_groups, system_name)"
   ]
  }
 ],
 "metadata": {
  "kernelspec": {
   "display_name": "Python 3",
   "language": "python",
   "name": "python3"
  },
  "language_info": {
   "codemirror_mode": {
    "name": "ipython",
    "version": 3
   },
   "file_extension": ".py",
   "mimetype": "text/x-python",
   "name": "python",
   "nbconvert_exporter": "python",
   "pygments_lexer": "ipython3",
   "version": "3.6.6"
  },
  "latex_envs": {
   "LaTeX_envs_menu_present": true,
   "autoclose": false,
   "autocomplete": true,
   "bibliofile": "biblio.bib",
   "cite_by": "apalike",
   "current_citInitial": 1,
   "eqLabelWithNumbers": true,
   "eqNumInitial": 1,
   "hotkeys": {
    "equation": "Ctrl-E",
    "itemize": "Ctrl-I"
   },
   "labels_anchors": true,
   "latex_user_defs": false,
   "report_style_numbering": false,
   "user_envs_cfg": false
  },
  "toc": {
   "base_numbering": 1,
   "nav_menu": {
    "height": "537px",
    "width": "251px"
   },
   "number_sections": true,
   "sideBar": true,
   "skip_h1_title": true,
   "title_cell": "Table of Contents",
   "title_sidebar": "Contents",
   "toc_cell": true,
   "toc_position": {
    "height": "calc(100% - 180px)",
    "left": "10px",
    "top": "150px",
    "width": "275px"
   },
   "toc_section_display": true,
   "toc_window_display": true
  },
  "toc-autonumbering": true,
  "toc-showcode": false,
  "toc-showmarkdowntxt": false,
  "varInspector": {
   "cols": {
    "lenName": 16,
    "lenType": 16,
    "lenVar": 40
   },
   "kernels_config": {
    "python": {
     "delete_cmd_postfix": "",
     "delete_cmd_prefix": "del ",
     "library": "var_list.py",
     "varRefreshCmd": "print(var_dic_list())"
    },
    "r": {
     "delete_cmd_postfix": ") ",
     "delete_cmd_prefix": "rm(",
     "library": "var_list.r",
     "varRefreshCmd": "cat(var_dic_list()) "
    }
   },
   "position": {
    "height": "776.85px",
    "left": "1550px",
    "right": "27px",
    "top": "120px",
    "width": "343px"
   },
   "types_to_exclude": [
    "module",
    "function",
    "builtin_function_or_method",
    "instance",
    "_Feature"
   ],
   "window_display": false
  }
 },
 "nbformat": 4,
 "nbformat_minor": 2
}
